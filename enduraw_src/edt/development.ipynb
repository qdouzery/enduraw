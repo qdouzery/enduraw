{
 "cells": [
  {
   "cell_type": "markdown",
   "metadata": {},
   "source": [
    "# Results EDT 2024"
   ]
  },
  {
   "cell_type": "markdown",
   "metadata": {},
   "source": [
    "## Imports"
   ]
  },
  {
   "cell_type": "code",
   "execution_count": 2,
   "metadata": {},
   "outputs": [],
   "source": [
    "import polars as pl"
   ]
  },
  {
   "cell_type": "markdown",
   "metadata": {},
   "source": [
    "## Preprocessing"
   ]
  },
  {
   "cell_type": "code",
   "execution_count": 5,
   "metadata": {},
   "outputs": [],
   "source": [
    "df_results = pl.read_parquet(\n",
    "    \"/Users/qdouzery/Desktop/enduraw/data/edt-2024_results/df_results_edt-2024.parquet\"\n",
    ")\n",
    "\n",
    "for athlete_name in df_results[\"name\"]:\n",
    "    df_splits = pl.read_parquet(\n",
    "        f\"/Users/qdouzery/Desktop/enduraw/data/edt-2024_results/splits/df_splits_{athlete_name.replace('_', '-')}.parquet\"\n",
    "    )"
   ]
  },
  {
   "cell_type": "code",
   "execution_count": 7,
   "metadata": {},
   "outputs": [
    {
     "data": {
      "text/html": [
       "<div><style>\n",
       ".dataframe > thead > tr,\n",
       ".dataframe > tbody > tr {\n",
       "  text-align: right;\n",
       "  white-space: pre-wrap;\n",
       "}\n",
       "</style>\n",
       "<small>shape: (10_614, 7)</small><table border=\"1\" class=\"dataframe\"><thead><tr><th>result</th><th>name</th><th>time</th><th>bib</th><th>sex</th><th>age</th><th>url</th></tr><tr><td>i16</td><td>str</td><td>time</td><td>i16</td><td>str</td><td>i8</td><td>str</td></tr></thead><tbody><tr><td>1</td><td>&quot;damien_jeanjean&quot;</td><td>04:40:28</td><td>576</td><td>&quot;M&quot;</td><td>35</td><td>&quot;https://resultscui.active.com/…</td></tr><tr><td>2</td><td>&quot;adrien_guillonnet&quot;</td><td>04:43:09</td><td>604</td><td>&quot;M&quot;</td><td>30</td><td>&quot;https://resultscui.active.com/…</td></tr><tr><td>3</td><td>&quot;tim_alleman&quot;</td><td>04:43:46</td><td>4</td><td>&quot;M&quot;</td><td>36</td><td>&quot;https://resultscui.active.com/…</td></tr><tr><td>4</td><td>&quot;thibaut_clement&quot;</td><td>04:46:28</td><td>395</td><td>&quot;M&quot;</td><td>31</td><td>&quot;https://resultscui.active.com/…</td></tr><tr><td>5</td><td>&quot;arnold_reifler&quot;</td><td>04:46:32</td><td>12</td><td>&quot;M&quot;</td><td>27</td><td>&quot;https://resultscui.active.com/…</td></tr><tr><td>&hellip;</td><td>&hellip;</td><td>&hellip;</td><td>&hellip;</td><td>&hellip;</td><td>&hellip;</td><td>&hellip;</td></tr><tr><td>10610</td><td>&quot;michael_brownsdon&quot;</td><td>12:24:55</td><td>5533</td><td>&quot;M&quot;</td><td>47</td><td>&quot;https://resultscui.active.com/…</td></tr><tr><td>10611</td><td>&quot;andres_sandoval&quot;</td><td>12:25:06</td><td>1766</td><td>&quot;M&quot;</td><td>37</td><td>&quot;https://resultscui.active.com/…</td></tr><tr><td>10612</td><td>&quot;ryan_gibson&quot;</td><td>12:25:26</td><td>9576</td><td>&quot;M&quot;</td><td>47</td><td>&quot;https://resultscui.active.com/…</td></tr><tr><td>10613</td><td>&quot;franck_lions&quot;</td><td>12:25:49</td><td>1631</td><td>&quot;M&quot;</td><td>47</td><td>&quot;https://resultscui.active.com/…</td></tr><tr><td>10614</td><td>&quot;zak_james&quot;</td><td>12:31:53</td><td>14581</td><td>&quot;M&quot;</td><td>47</td><td>&quot;https://resultscui.active.com/…</td></tr></tbody></table></div>"
      ],
      "text/plain": [
       "shape: (10_614, 7)\n",
       "┌────────┬───────────────────┬──────────┬───────┬─────┬─────┬─────────────────────────────────┐\n",
       "│ result ┆ name              ┆ time     ┆ bib   ┆ sex ┆ age ┆ url                             │\n",
       "│ ---    ┆ ---               ┆ ---      ┆ ---   ┆ --- ┆ --- ┆ ---                             │\n",
       "│ i16    ┆ str               ┆ time     ┆ i16   ┆ str ┆ i8  ┆ str                             │\n",
       "╞════════╪═══════════════════╪══════════╪═══════╪═════╪═════╪═════════════════════════════════╡\n",
       "│ 1      ┆ damien_jeanjean   ┆ 04:40:28 ┆ 576   ┆ M   ┆ 35  ┆ https://resultscui.active.com/… │\n",
       "│ 2      ┆ adrien_guillonnet ┆ 04:43:09 ┆ 604   ┆ M   ┆ 30  ┆ https://resultscui.active.com/… │\n",
       "│ 3      ┆ tim_alleman       ┆ 04:43:46 ┆ 4     ┆ M   ┆ 36  ┆ https://resultscui.active.com/… │\n",
       "│ 4      ┆ thibaut_clement   ┆ 04:46:28 ┆ 395   ┆ M   ┆ 31  ┆ https://resultscui.active.com/… │\n",
       "│ 5      ┆ arnold_reifler    ┆ 04:46:32 ┆ 12    ┆ M   ┆ 27  ┆ https://resultscui.active.com/… │\n",
       "│ …      ┆ …                 ┆ …        ┆ …     ┆ …   ┆ …   ┆ …                               │\n",
       "│ 10610  ┆ michael_brownsdon ┆ 12:24:55 ┆ 5533  ┆ M   ┆ 47  ┆ https://resultscui.active.com/… │\n",
       "│ 10611  ┆ andres_sandoval   ┆ 12:25:06 ┆ 1766  ┆ M   ┆ 37  ┆ https://resultscui.active.com/… │\n",
       "│ 10612  ┆ ryan_gibson       ┆ 12:25:26 ┆ 9576  ┆ M   ┆ 47  ┆ https://resultscui.active.com/… │\n",
       "│ 10613  ┆ franck_lions      ┆ 12:25:49 ┆ 1631  ┆ M   ┆ 47  ┆ https://resultscui.active.com/… │\n",
       "│ 10614  ┆ zak_james         ┆ 12:31:53 ┆ 14581 ┆ M   ┆ 47  ┆ https://resultscui.active.com/… │\n",
       "└────────┴───────────────────┴──────────┴───────┴─────┴─────┴─────────────────────────────────┘"
      ]
     },
     "execution_count": 7,
     "metadata": {},
     "output_type": "execute_result"
    }
   ],
   "source": [
    "df_results"
   ]
  }
 ],
 "metadata": {
  "kernelspec": {
   "display_name": "enduraw_env",
   "language": "python",
   "name": "python3"
  },
  "language_info": {
   "codemirror_mode": {
    "name": "ipython",
    "version": 3
   },
   "file_extension": ".py",
   "mimetype": "text/x-python",
   "name": "python",
   "nbconvert_exporter": "python",
   "pygments_lexer": "ipython3",
   "version": "3.11.7"
  }
 },
 "nbformat": 4,
 "nbformat_minor": 2
}
